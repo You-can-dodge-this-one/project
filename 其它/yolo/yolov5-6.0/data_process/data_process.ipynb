{
 "cells": [
  {
   "cell_type": "code",
   "execution_count": 5,
   "metadata": {},
   "outputs": [],
   "source": [
    "# 调用库\n",
    "import os\n",
    "import cv2 as cv\n",
    "import json\n",
    "aa=0"
   ]
  },
  {
   "cell_type": "code",
   "execution_count": 4,
   "metadata": {},
   "outputs": [],
   "source": [
    "import cv2 as cv\n",
    "# 待查看图片的路径赋给img\n",
    "img = cv.imread(\"E:\\\\pyproject\\\\yolov5-6.0\\\\data\\\\data_org\\\\train\\\\1_jpg.rf.ff8ea2f6448cfe4e5fd8fe9c1efad7bd.jpg\")\n"
   ]
  },
  {
   "cell_type": "code",
   "execution_count": 6,
   "metadata": {},
   "outputs": [],
   "source": [
    "cv.imshow(\"img\",img) # 显示图片\n",
    "if cv.waitKey(0) == ord('q'): # 键盘输入q退出\n",
    "    cv.destroyAllWindows()"
   ]
  },
  {
   "cell_type": "code",
   "execution_count": 7,
   "metadata": {},
   "outputs": [],
   "source": [
    "img = cv.rectangle(img,(78,15),(559+78,622+15),(0,0,255),2) # 对应坐标上画矩形\n",
    "cv.imshow(\"img\",img) # 看图片\n",
    "if cv.waitKey(0) == ord('q'): # 键盘输入q退出\n",
    "    cv.destroyAllWindows()"
   ]
  },
  {
   "cell_type": "code",
   "execution_count": 8,
   "metadata": {},
   "outputs": [],
   "source": [
    "import os # os为操作系统的库应该是为了调用一些外部组件，比如说摄像头键盘等\n",
    "import cv2 as cv # opencv\n",
    "import json"
   ]
  },
  {
   "cell_type": "code",
   "execution_count": 22,
   "metadata": {},
   "outputs": [],
   "source": [
    "# 图片路径\n",
    "\n",
    "# 后续将test 改成 train val 分别训练一下\n",
    "img_folder = \"E:\\\\pyproject\\\\yolov5-6.0\\\\data\\\\dataset\\\\test\\\\images\"\n",
    "# 标签路径\n",
    "label_path = \"E:\\\\pyproject\\\\yolov5-6.0\\\\data\\\\data_org\\\\test\\\\_annotations.coco.json\"\n",
    "\n",
    "# train\n",
    "# img_folder = \"E:\\\\pyproject\\\\yolov5-6.0\\\\data\\\\dataset\\\\train\\\\images\"\n",
    "# label_path = \"E:\\\\pyproject\\\\yolov5-6.0\\\\data\\\\data_org\\\\train\\\\_annotations.coco.json\"\n",
    "\n",
    "# val\n",
    "# img_folder = \"E:\\\\pyproject\\\\yolov5-6.0\\\\data\\\\dataset\\\\val\\\\images\"\n",
    "\n",
    "# label_path = \"E:\\\\pyproject\\\\yolov5-6.0\\\\data\\\\data_org\\\\valid\\\\_annotations.coco.json\""
   ]
  },
  {
   "cell_type": "code",
   "execution_count": 23,
   "metadata": {},
   "outputs": [
    {
     "name": "stdout",
     "output_type": "stream",
     "text": [
      "d:\\Anaconda_envirnemnet\\yolov5-60\\python.exe\n",
      "['d:\\\\Anaconda_envirnemnet\\\\yolov5-60\\\\python38.zip', 'd:\\\\Anaconda_envirnemnet\\\\yolov5-60\\\\DLLs', 'd:\\\\Anaconda_envirnemnet\\\\yolov5-60\\\\lib', 'd:\\\\Anaconda_envirnemnet\\\\yolov5-60', '', 'd:\\\\Anaconda_envirnemnet\\\\yolov5-60\\\\lib\\\\site-packages', 'd:\\\\Anaconda_envirnemnet\\\\yolov5-60\\\\lib\\\\site-packages\\\\win32', 'd:\\\\Anaconda_envirnemnet\\\\yolov5-60\\\\lib\\\\site-packages\\\\win32\\\\lib', 'd:\\\\Anaconda_envirnemnet\\\\yolov5-60\\\\lib\\\\site-packages\\\\Pythonwin']\n"
     ]
    }
   ],
   "source": [
    "# 查看python路径\n",
    "import sys\n",
    "print(sys.executable)\n",
    "print(sys.path)"
   ]
  },
  {
   "cell_type": "code",
   "execution_count": 25,
   "metadata": {},
   "outputs": [],
   "source": [
    "# 图片文件名\n",
    "img_path_lst = os.listdir(img_folder) #图片路径为入口参数\n",
    "\n",
    "# 为每一张图片创建一个空白的txt标签\n",
    "for img_name in img_path_lst :\n",
    "     # 将images替换为labels，jpg替换为txt。\n",
    "     with open(os.path.join(img_folder.replace(\"images\",\"labels\"),img_name.replace(\".jpg\",\".txt\")),\"w\") as f:\n",
    "          pass\n",
    "# 此时在这个\"B:\\yolov5\\yolov5\\data\\dataset\\test\\labels\"路径下会产生一堆与\"B:\\yolov5\\yolov5\\data\\dataset\\test\\images\"相对应的txt文件。\n",
    "# 每个文件对应着对应的图片。"
   ]
  },
  {
   "cell_type": "code",
   "execution_count": 26,
   "metadata": {},
   "outputs": [],
   "source": [
    "# 读取文件\n",
    "with open(label_path,'r') as f:\n",
    "     content = json.load(f)\n",
    "pass # 有pass才能加断点"
   ]
  },
  {
   "cell_type": "code",
   "execution_count": 27,
   "metadata": {},
   "outputs": [],
   "source": [
    "# 创建一个id到图片名称的映射，以字典的形式储存\n",
    "dict_id2img = dict()\n",
    "for img_info in content['images']:\n",
    "    dict_id2img[img_info['id']] = img_info['file_name']\n",
    "pass # 有pass才能加断点"
   ]
  },
  {
   "cell_type": "code",
   "execution_count": 28,
   "metadata": {},
   "outputs": [],
   "source": [
    "# 开始批量读取标签信息之后写入到txt文件\n",
    "for label_info in content['annotations']:\n",
    "    img_name = dict_id2img[label_info['image_id']]\n",
    "    class_name = label_info['category_id']\n",
    "    # 图片是640*640的\n",
    "    x_center = (label_info['bbox'][0]+label_info['bbox'][2] / 2) / 640 # 目标图像的x中心坐标\n",
    "    y_center = (label_info['bbox'][1]+label_info['bbox'][3] / 2) / 640 # 目标图像的y中心坐标\n",
    "    w = label_info['bbox'][2] / 640 # 获得宽\n",
    "    h = label_info['bbox'][3] / 640 # 获得高\n",
    "    with open(os.path.join(img_folder.replace(\"images\",\"labels\"),img_name.replace(\".jpg\",\".txt\")),'a') as f:\n",
    "        f.write(\"{} {} {} {} {}\\n\".format(class_name,x_center,y_center,w,h)) # 有五个{}就能存五个标签（一张图片中最多五个标签）"
   ]
  },
  {
   "cell_type": "code",
   "execution_count": null,
   "metadata": {},
   "outputs": [],
   "source": []
  },
  {
   "cell_type": "code",
   "execution_count": null,
   "metadata": {},
   "outputs": [],
   "source": []
  }
 ],
 "metadata": {
  "kernelspec": {
   "display_name": "yolov5-60",
   "language": "python",
   "name": "python3"
  },
  "language_info": {
   "codemirror_mode": {
    "name": "ipython",
    "version": 3
   },
   "file_extension": ".py",
   "mimetype": "text/x-python",
   "name": "python",
   "nbconvert_exporter": "python",
   "pygments_lexer": "ipython3",
   "version": "3.8.19"
  }
 },
 "nbformat": 4,
 "nbformat_minor": 2
}
